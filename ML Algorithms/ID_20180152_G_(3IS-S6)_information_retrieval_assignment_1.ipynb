{
  "nbformat": 4,
  "nbformat_minor": 0,
  "metadata": {
    "colab": {
      "name": "ID_20180152_G_S6_information_retrieval_assignment#1.ipynb",
      "provenance": [],
      "collapsed_sections": []
    },
    "kernelspec": {
      "name": "python3",
      "display_name": "Python 3"
    },
    "language_info": {
      "name": "python"
    }
  },
  "cells": [
    {
      "cell_type": "markdown",
      "source": [
        "#**Name: Abdelrahman Sayed Abdallah**\n",
        "#**ID: 20180152**\n",
        "# **GROUP: S6**"
      ],
      "metadata": {
        "id": "yxMsBbPm4xLr"
      }
    },
    {
      "cell_type": "code",
      "source": [
        "import string\n",
        "import nltk\n",
        "from nltk.corpus import stopwords\n",
        "nltk.download('stopwords')"
      ],
      "metadata": {
        "colab": {
          "base_uri": "https://localhost:8080/"
        },
        "id": "TFMgxu5fBE4r",
        "outputId": "56794461-1c2b-413e-ee26-854bbc41fb83"
      },
      "execution_count": 64,
      "outputs": [
        {
          "output_type": "stream",
          "name": "stdout",
          "text": [
            "[nltk_data] Downloading package stopwords to /root/nltk_data...\n",
            "[nltk_data]   Package stopwords is already up-to-date!\n"
          ]
        },
        {
          "output_type": "execute_result",
          "data": {
            "text/plain": [
              "True"
            ]
          },
          "metadata": {},
          "execution_count": 64
        }
      ]
    },
    {
      "cell_type": "code",
      "execution_count": 65,
      "metadata": {
        "id": "tPoxR5BRvFNN"
      },
      "outputs": [],
      "source": [
        "# Collection of documents (corpus)\n",
        "\n",
        "review_0 = \"The Glider. II is the best soccer ball\"\n",
        "review_1 = \"What a bad soccer ball\"\n",
        "review_2 = \"I am happy with The glider\"\n",
        "review_3 = \"messi is the best soccer ball player in the world\"\n",
        "review_4 = \"economics is a needed science for all world countries to improve their states\"\n",
        "review_5 = \"car racing returns improve the national income\""
      ]
    },
    {
      "cell_type": "code",
      "source": [
        "def clean_description(doc):\n",
        "    doc=doc.translate(str.maketrans('','',string.punctuation))\n",
        "    doc=doc.lower()\n",
        "    doc=doc.split()\n",
        "    doc=[word for word in doc if not word in stopwords.words()]\n",
        "    doc=' '.join(doc)\n",
        "    return doc\n",
        "    \n",
        "\n",
        "  \n",
        "    \n",
        "    \n",
        "  "
      ],
      "metadata": {
        "id": "YC-tLkzfAO0Y"
      },
      "execution_count": 66,
      "outputs": []
    },
    {
      "cell_type": "code",
      "source": [
        "doc0=clean_description(review_0)\n",
        "doc1=clean_description(review_1)\n",
        "doc2=clean_description(review_2)\n",
        "doc3=clean_description(review_3)\n",
        "doc4=clean_description(review_4)\n",
        "doc5=clean_description(review_5)\n",
        "docs= [doc0,doc1, doc2, doc3,doc4,doc5]"
      ],
      "metadata": {
        "id": "S2Po5otECO4I"
      },
      "execution_count": 67,
      "outputs": []
    },
    {
      "cell_type": "code",
      "source": [
        "docs"
      ],
      "metadata": {
        "colab": {
          "base_uri": "https://localhost:8080/"
        },
        "id": "SKWgLjooMF5o",
        "outputId": "501c69f0-1625-46b4-c4a0-9ca6e6c545b5"
      },
      "execution_count": 68,
      "outputs": [
        {
          "output_type": "execute_result",
          "data": {
            "text/plain": [
              "['glider best soccer ball',\n",
              " 'bad soccer ball',\n",
              " 'happy glider',\n",
              " 'messi best soccer ball player world',\n",
              " 'economics needed science world countries improve states',\n",
              " 'car racing returns improve national income']"
            ]
          },
          "metadata": {},
          "execution_count": 68
        }
      ]
    },
    {
      "cell_type": "code",
      "source": [
        "# Construct an inverted index\n",
        "# here as a Python dictionary for ease of interpretability\n",
        "\n",
        "inverted_index = {}\n",
        "\n",
        "for i, doc in enumerate(docs):\n",
        "    for term in doc.split():\n",
        "        if term in inverted_index:\n",
        "            inverted_index[term].add(i)\n",
        "        else: inverted_index[term] = {i}\n",
        "\n",
        "inverted_index"
      ],
      "metadata": {
        "colab": {
          "base_uri": "https://localhost:8080/"
        },
        "id": "Ptprh7j4vIzo",
        "outputId": "79285aa3-8638-4449-88a5-9bcfa437a084"
      },
      "execution_count": 69,
      "outputs": [
        {
          "output_type": "execute_result",
          "data": {
            "text/plain": [
              "{'bad': {1},\n",
              " 'ball': {0, 1, 3},\n",
              " 'best': {0, 3},\n",
              " 'car': {5},\n",
              " 'countries': {4},\n",
              " 'economics': {4},\n",
              " 'glider': {0, 2},\n",
              " 'happy': {2},\n",
              " 'improve': {4, 5},\n",
              " 'income': {5},\n",
              " 'messi': {3},\n",
              " 'national': {5},\n",
              " 'needed': {4},\n",
              " 'player': {3},\n",
              " 'racing': {5},\n",
              " 'returns': {5},\n",
              " 'science': {4},\n",
              " 'soccer': {0, 1, 3},\n",
              " 'states': {4},\n",
              " 'world': {3, 4}}"
            ]
          },
          "metadata": {},
          "execution_count": 69
        }
      ]
    },
    {
      "cell_type": "code",
      "source": [
        "posting_list = inverted_index['soccer']\n",
        "posting_list"
      ],
      "metadata": {
        "colab": {
          "base_uri": "https://localhost:8080/"
        },
        "id": "9StWB_odvIxI",
        "outputId": "538d7a32-50ae-4b1d-faa1-71c9acaf6504"
      },
      "execution_count": 70,
      "outputs": [
        {
          "output_type": "execute_result",
          "data": {
            "text/plain": [
              "{0, 1, 3}"
            ]
          },
          "metadata": {},
          "execution_count": 70
        }
      ]
    },
    {
      "cell_type": "code",
      "source": [
        "def or_postings(posting1, posting2):\n",
        "    p1 = 0\n",
        "    p2 = 0\n",
        "    result = list()\n",
        "    while p1 < len(posting1) and p2 < len(posting2):\n",
        "        if posting1[p1] == posting2[p2]:\n",
        "            result.append(posting1[p1])\n",
        "            p1 += 1\n",
        "            p2 += 1\n",
        "        elif posting1[p1] > posting2[p2]:\n",
        "            result.append(posting2[p2])\n",
        "            p2 += 1\n",
        "        else:\n",
        "            result.append(posting1[p1])\n",
        "            p1 += 1\n",
        "    while p1 < len(posting1):\n",
        "        result.append(posting1[p1])\n",
        "        p1 += 1\n",
        "    while p2 < len(posting2):\n",
        "        result.append(posting2[p2])\n",
        "        p2 += 1\n",
        "    return result"
      ],
      "metadata": {
        "id": "mLmdEnGCvIug"
      },
      "execution_count": 71,
      "outputs": []
    },
    {
      "cell_type": "code",
      "source": [
        "pl_1 = list(inverted_index['soccer'])\n",
        "pl_2 = list(inverted_index['glider'])\n",
        "or_postings(pl_1, pl_2) "
      ],
      "metadata": {
        "colab": {
          "base_uri": "https://localhost:8080/"
        },
        "id": "yPMK7B2rvIrw",
        "outputId": "b5786895-041d-4619-e769-bda5bec2d06b"
      },
      "execution_count": 72,
      "outputs": [
        {
          "output_type": "execute_result",
          "data": {
            "text/plain": [
              "[0, 1, 2, 3]"
            ]
          },
          "metadata": {},
          "execution_count": 72
        }
      ]
    },
    {
      "cell_type": "code",
      "source": [
        "def and_postings(posting1, posting2):\n",
        "    p1 = 0\n",
        "    p2 = 0\n",
        "    result = list()\n",
        "    while p1 < len(posting1) and p2 < len(posting2):\n",
        "        if posting1[p1] == posting2[p2]:\n",
        "            result.append(posting1[p1])\n",
        "            p1 += 1\n",
        "            p2 += 1\n",
        "        elif posting1[p1] > posting2[p2]:\n",
        "            p2 += 1\n",
        "        else:\n",
        "            p1 += 1\n",
        "    return result"
      ],
      "metadata": {
        "id": "D2fOYU9OvInO"
      },
      "execution_count": 73,
      "outputs": []
    },
    {
      "cell_type": "code",
      "source": [
        "def Not_operation(posting1, posting2):\n",
        "    result = list()\n",
        "    for i in posting1:\n",
        "      if i not in posting2:\n",
        "          result.append(i)\n",
        "    return result"
      ],
      "metadata": {
        "id": "5tPNA0f7zn3s"
      },
      "execution_count": 74,
      "outputs": []
    },
    {
      "cell_type": "code",
      "source": [
        "pl_3 = list(inverted_index['ball'])\n",
        "pl_4= list(inverted_index['bad'])\n",
        "\n",
        "and_postings(pl_1, pl_2)"
      ],
      "metadata": {
        "colab": {
          "base_uri": "https://localhost:8080/"
        },
        "id": "wXw73RorvIkr",
        "outputId": "2665ac1c-b494-48af-d749-793efa9aec45"
      },
      "execution_count": 75,
      "outputs": [
        {
          "output_type": "execute_result",
          "data": {
            "text/plain": [
              "[0]"
            ]
          },
          "metadata": {},
          "execution_count": 75
        }
      ]
    },
    {
      "cell_type": "code",
      "source": [
        "#query_with_one_boolean_operator\n",
        "first='soccer or ball'\n",
        "second='soccer not glider'\n",
        "third='ball and glider'\n",
        "fourth='soccer and ball'"
      ],
      "metadata": {
        "id": "Rw4k8WuTvIYB"
      },
      "execution_count": 76,
      "outputs": []
    },
    {
      "cell_type": "code",
      "source": [
        "def return_result(query_with_one_boolean_operator):\n",
        "  query_with_one_boolean_operator=query_with_one_boolean_operator.split()\n",
        "  for i in range(len(query_with_one_boolean_operator)):\n",
        "    if query_with_one_boolean_operator[i]=='and' or query_with_one_boolean_operator[i]=='or' or query_with_one_boolean_operator[i]=='not':\n",
        "      pl_1=list(inverted_index[query_with_one_boolean_operator[i-1]])\n",
        "      pl_2=list(inverted_index[query_with_one_boolean_operator[i+1]])\n",
        "      if query_with_one_boolean_operator[i]=='or':\n",
        "        result=or_postings(pl_1, pl_2)\n",
        "        return result\n",
        "      if query_with_one_boolean_operator[i]=='and':\n",
        "        result=and_postings(pl_1, pl_2)\n",
        "        return result\n",
        "      if query_with_one_boolean_operator[i]=='not':\n",
        "        result=Not_operation(pl_1, pl_2)\n",
        "        return result\n"
      ],
      "metadata": {
        "id": "nZTRTHsyx3-i"
      },
      "execution_count": 77,
      "outputs": []
    },
    {
      "cell_type": "code",
      "source": [
        "soccer_or_ball=return_result(first)#should return 0,1,3\n",
        "soccer_or_ball"
      ],
      "metadata": {
        "id": "oIYyYf45vITt",
        "colab": {
          "base_uri": "https://localhost:8080/"
        },
        "outputId": "9f9c7b27-f96e-4df2-95c2-05c84773a388"
      },
      "execution_count": 78,
      "outputs": [
        {
          "output_type": "execute_result",
          "data": {
            "text/plain": [
              "[0, 1, 3]"
            ]
          },
          "metadata": {},
          "execution_count": 78
        }
      ]
    },
    {
      "cell_type": "code",
      "source": [
        "soccer_and_not_glider=return_result(second)#should return 1,3\n",
        "soccer_and_not_glider"
      ],
      "metadata": {
        "colab": {
          "base_uri": "https://localhost:8080/"
        },
        "id": "iNKxBZkv3Drc",
        "outputId": "4a8392ab-cfba-46b1-e045-5193259ffa3d"
      },
      "execution_count": 79,
      "outputs": [
        {
          "output_type": "execute_result",
          "data": {
            "text/plain": [
              "[1, 3]"
            ]
          },
          "metadata": {},
          "execution_count": 79
        }
      ]
    },
    {
      "cell_type": "code",
      "source": [
        "ball_and_glider=return_result(third)#should return 0\n",
        "ball_and_glider"
      ],
      "metadata": {
        "colab": {
          "base_uri": "https://localhost:8080/"
        },
        "id": "2jxWT4q63DOO",
        "outputId": "91ddefe8-9383-4887-92b8-d004610dd725"
      },
      "execution_count": 80,
      "outputs": [
        {
          "output_type": "execute_result",
          "data": {
            "text/plain": [
              "[0]"
            ]
          },
          "metadata": {},
          "execution_count": 80
        }
      ]
    },
    {
      "cell_type": "code",
      "source": [
        "soccer_and_ball=return_result(fourth)#should return 0,1,3\n",
        "soccer_and_ball"
      ],
      "metadata": {
        "colab": {
          "base_uri": "https://localhost:8080/"
        },
        "id": "C2UPHL0J3eWY",
        "outputId": "30e8a43a-5310-4f1b-ad8f-f732f287e550"
      },
      "execution_count": 81,
      "outputs": [
        {
          "output_type": "execute_result",
          "data": {
            "text/plain": [
              "[0, 1, 3]"
            ]
          },
          "metadata": {},
          "execution_count": 81
        }
      ]
    },
    {
      "cell_type": "code",
      "source": [
        "#query_with_more_than_one_boolean_operator\n",
        "fifth='(soccer and bad) or messi'\n",
        "sixth='player and world and not economics'\n",
        "seventh='car or glider or science'\n",
        "eight='best and soccer and ball'"
      ],
      "metadata": {
        "id": "TIMSiREwyT1M"
      },
      "execution_count": 82,
      "outputs": []
    },
    {
      "cell_type": "code",
      "source": [
        "fifth=return_result('soccer and ball')\n",
        "fifth=or_postings(fifth,list(inverted_index['messi']))#should return 0,1,3"
      ],
      "metadata": {
        "id": "kb-kj63uvIP8"
      },
      "execution_count": 83,
      "outputs": []
    },
    {
      "cell_type": "code",
      "source": [
        "fifth"
      ],
      "metadata": {
        "colab": {
          "base_uri": "https://localhost:8080/"
        },
        "id": "GWNUj9gB2wAX",
        "outputId": "4e82cbda-40ee-4efd-9dd2-5725a168e272"
      },
      "execution_count": 84,
      "outputs": [
        {
          "output_type": "execute_result",
          "data": {
            "text/plain": [
              "[0, 1, 3]"
            ]
          },
          "metadata": {},
          "execution_count": 84
        }
      ]
    },
    {
      "cell_type": "code",
      "source": [
        "sixth=return_result('player and world')\n",
        "sixth=Not_operation(sixth,list(inverted_index['economics']))#should return 3"
      ],
      "metadata": {
        "id": "X5D_Q9i7zbkH"
      },
      "execution_count": 85,
      "outputs": []
    },
    {
      "cell_type": "code",
      "source": [
        "sixth"
      ],
      "metadata": {
        "colab": {
          "base_uri": "https://localhost:8080/"
        },
        "id": "q6BmTBJV2xCH",
        "outputId": "bb2c4920-b878-43e2-f3a4-fa875f897824"
      },
      "execution_count": 86,
      "outputs": [
        {
          "output_type": "execute_result",
          "data": {
            "text/plain": [
              "[3]"
            ]
          },
          "metadata": {},
          "execution_count": 86
        }
      ]
    },
    {
      "cell_type": "code",
      "source": [
        "seventh=return_result('car or glider')\n",
        "seventh=or_postings(seventh,list(inverted_index['science']))#should return 0,2,4,5"
      ],
      "metadata": {
        "id": "P1ZzmLyoztyo"
      },
      "execution_count": 87,
      "outputs": []
    },
    {
      "cell_type": "code",
      "source": [
        "seventh"
      ],
      "metadata": {
        "colab": {
          "base_uri": "https://localhost:8080/"
        },
        "id": "ZVGp_aYK2yq2",
        "outputId": "d88d7a8e-7522-4dd9-b934-e6f7f77c83a5"
      },
      "execution_count": 88,
      "outputs": [
        {
          "output_type": "execute_result",
          "data": {
            "text/plain": [
              "[0, 2, 4, 5]"
            ]
          },
          "metadata": {},
          "execution_count": 88
        }
      ]
    },
    {
      "cell_type": "code",
      "source": [
        "eight=return_result('best and soccer')\n",
        "eight=and_postings(eight,list(inverted_index['ball']))#should return 0,3"
      ],
      "metadata": {
        "id": "cGCDf74y0DAr"
      },
      "execution_count": 89,
      "outputs": []
    },
    {
      "cell_type": "code",
      "source": [
        "eight"
      ],
      "metadata": {
        "colab": {
          "base_uri": "https://localhost:8080/"
        },
        "id": "jIENLT1w20uu",
        "outputId": "3fc318b4-ef89-433a-b7cb-adb7a62572e3"
      },
      "execution_count": 90,
      "outputs": [
        {
          "output_type": "execute_result",
          "data": {
            "text/plain": [
              "[0, 3]"
            ]
          },
          "metadata": {},
          "execution_count": 90
        }
      ]
    },
    {
      "cell_type": "markdown",
      "source": [
        "# ***THANK YOU***"
      ],
      "metadata": {
        "id": "1v_d0dDz5Jg7"
      }
    }
  ]
}