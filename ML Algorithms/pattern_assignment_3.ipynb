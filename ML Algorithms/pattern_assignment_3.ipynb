{
  "nbformat": 4,
  "nbformat_minor": 0,
  "metadata": {
    "colab": {
      "name": "pattern assignment 3.ipynb",
      "provenance": [],
      "collapsed_sections": []
    },
    "kernelspec": {
      "name": "python3",
      "display_name": "Python 3"
    },
    "language_info": {
      "name": "python"
    }
  },
  "cells": [
    {
      "cell_type": "code",
      "execution_count": 1,
      "metadata": {
        "id": "PmHgGSXL7hSZ"
      },
      "outputs": [],
      "source": [
        "from sklearn import datasets"
      ]
    },
    {
      "cell_type": "code",
      "source": [
        "# import some data to play with\n",
        "iris = datasets.load_iris()\n",
        "X = iris.data[:, :]  # we only take the first two features.\n",
        "y = iris.target"
      ],
      "metadata": {
        "id": "acUc1i4A7tUc"
      },
      "execution_count": 2,
      "outputs": []
    },
    {
      "cell_type": "code",
      "source": [
        "number = [0,0,0]\n",
        "for i in y:\n",
        "  if i == 0:\n",
        "    number[0] += 1\n",
        "  elif i ==1:\n",
        "    number[1] += 1 \n",
        "  else:\n",
        "    number[2] += 1\n",
        "number"
      ],
      "metadata": {
        "colab": {
          "base_uri": "https://localhost:8080/"
        },
        "id": "RPpPGLUn8NdY",
        "outputId": "d94fb338-4fec-43ed-a07f-3a942227b203"
      },
      "execution_count": 6,
      "outputs": [
        {
          "output_type": "execute_result",
          "data": {
            "text/plain": [
              "[50, 50, 50]"
            ]
          },
          "metadata": {},
          "execution_count": 6
        }
      ]
    },
    {
      "cell_type": "code",
      "source": [
        "test_percent = 0.15\n",
        "def train_test_split(X,y,test_percent):\n",
        "  number_of_test_samples = int(0.15 * len(y))\n",
        "  number_train = 3 * (50 - number_of_test_samples)\n",
        "  x_train = []\n",
        "  y_train = []\n",
        "  x_test = []\n",
        "  y_test = []\n",
        "  for i in range(3):\n",
        "    x_test.append(X[i*50:(i*50)+number_of_test_samples])\n",
        "    y_test.append(y[i*50:(i*50)+number_of_test_samples])\n",
        "    x_train.append(X[(i*50)+number_of_test_samples:(i+1)*50])\n",
        "    y_train.append(y[(i*50)+number_of_test_samples:(i+1)*50])\n",
        "  \n",
        "  x_test = np.array(x_test).reshape(number_of_test_samples*3,4)\n",
        "  y_test = np.array(y_test).reshape(number_of_test_samples*3,)\n",
        "  x_train = np.array(x_train).reshape(number_train,4)\n",
        "  y_train = np.array(y_train).reshape(number_train,)\n",
        "  return x_train , y_train , x_test , y_test"
      ],
      "metadata": {
        "id": "JNpKu7iZ-xMP"
      },
      "execution_count": 51,
      "outputs": []
    },
    {
      "cell_type": "code",
      "source": [
        "x_train,y_train,x_test,y_test = train_test_split(X,y,0.15)"
      ],
      "metadata": {
        "id": "T4N-fwjvCVJI"
      },
      "execution_count": 52,
      "outputs": []
    },
    {
      "cell_type": "code",
      "source": [
        "y_train"
      ],
      "metadata": {
        "colab": {
          "base_uri": "https://localhost:8080/"
        },
        "id": "mZC19JcNEkuR",
        "outputId": "c95471f3-6a4e-4f2f-ee40-07414de9531d"
      },
      "execution_count": 53,
      "outputs": [
        {
          "output_type": "execute_result",
          "data": {
            "text/plain": [
              "array([0, 0, 0, 0, 0, 0, 0, 0, 0, 0, 0, 0, 0, 0, 0, 0, 0, 0, 0, 0, 0, 0,\n",
              "       0, 0, 0, 0, 0, 0, 1, 1, 1, 1, 1, 1, 1, 1, 1, 1, 1, 1, 1, 1, 1, 1,\n",
              "       1, 1, 1, 1, 1, 1, 1, 1, 1, 1, 1, 1, 2, 2, 2, 2, 2, 2, 2, 2, 2, 2,\n",
              "       2, 2, 2, 2, 2, 2, 2, 2, 2, 2, 2, 2, 2, 2, 2, 2, 2, 2])"
            ]
          },
          "metadata": {},
          "execution_count": 53
        }
      ]
    },
    {
      "cell_type": "code",
      "source": [
        "import numpy as np\n",
        "from sklearn.discriminant_analysis import LinearDiscriminantAnalysis\n",
        "clf = LinearDiscriminantAnalysis()\n",
        "clf.fit(x_train, y_train)"
      ],
      "metadata": {
        "colab": {
          "base_uri": "https://localhost:8080/"
        },
        "id": "l1rXZ14D9A4G",
        "outputId": "57e880e8-b174-4f4b-abac-07c1ec4ed2cc"
      },
      "execution_count": 54,
      "outputs": [
        {
          "output_type": "execute_result",
          "data": {
            "text/plain": [
              "LinearDiscriminantAnalysis()"
            ]
          },
          "metadata": {},
          "execution_count": 54
        }
      ]
    },
    {
      "cell_type": "code",
      "source": [
        "clf.score(X,y)\n"
      ],
      "metadata": {
        "colab": {
          "base_uri": "https://localhost:8080/"
        },
        "id": "aiO_z7rx9bs3",
        "outputId": "6de9e852-ada8-4319-a95a-541708ff12c7"
      },
      "execution_count": 55,
      "outputs": [
        {
          "output_type": "execute_result",
          "data": {
            "text/plain": [
              "0.9733333333333334"
            ]
          },
          "metadata": {},
          "execution_count": 55
        }
      ]
    },
    {
      "cell_type": "code",
      "source": [
        "clf.predict(x_test[50].reshape(1,-1))"
      ],
      "metadata": {
        "colab": {
          "base_uri": "https://localhost:8080/"
        },
        "id": "MJo0oONa9ocz",
        "outputId": "613700a9-da74-42c0-a4c3-3a75bba02daf"
      },
      "execution_count": 67,
      "outputs": [
        {
          "output_type": "execute_result",
          "data": {
            "text/plain": [
              "array([2])"
            ]
          },
          "metadata": {},
          "execution_count": 67
        }
      ]
    }
  ]
}